{
 "cells": [
  {
   "cell_type": "code",
   "execution_count": 5,
   "metadata": {},
   "outputs": [
    {
     "name": "stdout",
     "output_type": "stream",
     "text": [
      "Election Results\n",
      "\n",
      "-------------------------\n",
      "\n",
      "Total Votes: 3521001 \n",
      "\n",
      "--------------------------\n",
      "\n",
      "Khan: 63.0% (2218231)\n",
      "\n",
      "Correy: 20.0% (704200)\n",
      "\n",
      " Li: 14.0% (492940)\n",
      "\n",
      " O'Tooley: 3.0% (105630)\n",
      "\n",
      "----------------------------\n",
      "\n",
      "Winner: Khan \n",
      "\n",
      "-----------------------------\n",
      "\n"
     ]
    }
   ],
   "source": [
    "import os\n",
    "import csv\n",
    "\n",
    "PyPollcsvpath = os.path.join(\"Resources\", \"03-Python_Python-HW_Instructions_PyPoll_Resources_election_data.csv\")\n",
    "output_path = os.path.join(\"Resources\", \"Final_Poll_Analysis.txt\")\n",
    "total_votes = 0 \n",
    "candidate_votes = []\n",
    "khan_percentage = 0\n",
    "correy_percentage = 0\n",
    "li_percentage = 0\n",
    "otooley_percentage = 0 \n",
    "\n",
    "with open(PyPollcsvpath, newline='') as csvfile:\n",
    "    csvreader = csv.reader(csvfile, delimiter=',')\n",
    "    csv_header = next(csvreader)\n",
    "    \n",
    "    for row in csvreader: \n",
    "        total_votes = total_votes + 1\n",
    "        candidates = str(row[2])\n",
    "        candidate_votes.append(candidates)\n",
    "khan_count = candidate_votes.count(\"Khan\")\n",
    "correy_count = candidate_votes.count(\"Correy\")\n",
    "li_count = candidate_votes.count(\"Li\")\n",
    "otooley_count = candidate_votes.count(\"O'Tooley\")\n",
    "\n",
    "khan_percentage = khan_percentage + ((khan_count/total_votes) * 100)  \n",
    "correy_percentage = correy_percentage + ((correy_count/total_votes) * 100) \n",
    "li_percentage = li_percentage + ((li_count/total_votes) * 100 )\n",
    "otooley_percentage = otooley_percentage + ((otooley_count/total_votes) * 100)\n",
    "        \n",
    "\n",
    "print(\"Election Results\\n\")\n",
    "print(\"-------------------------\\n\")\n",
    "print(f\"Total Votes: {total_votes} \\n\")\n",
    "print(\"--------------------------\\n\")\n",
    "print(f\"Khan: {round(khan_percentage, 3)}% ({khan_count})\\n\")\n",
    "print(f\"Correy: {round(correy_percentage, 3)}% ({correy_count})\\n\")\n",
    "print(f\" Li: {round(li_percentage, 3)}% ({li_count})\\n\")\n",
    "print(f\" O'Tooley: {round(otooley_percentage, 3)}% ({otooley_count})\\n\")\n",
    "print(\"----------------------------\\n\")\n",
    "print(\"Winner: Khan \\n\")\n",
    "print(\"-----------------------------\\n\")\n",
    "\n",
    "\n",
    "\n",
    "with open(output_path, 'w', newline='') as text: \n",
    "    text.write(\"Election Results \\n\")\n",
    "    text.write(\"-----------------------------\\n\")\n",
    "    text.write(f\" Total Votes: {total_votes}\\n\")\n",
    "    text.write(\"--------------------------\\n\")\n",
    "    text.write(f\"Khan: {round(khan_percentage, 3)}% ({khan_count})\\n\")\n",
    "    text.write(f\"Correy: {round(correy_percentage, 3)}% ({correy_count})\\n\")   \n",
    "    text.write(f\" Li: {round(li_percentage, 3)}% ({li_count})\\n\")   \n",
    "    text.write(f\" O'Tooley: {round(otooley_percentage, 3)}% ({otooley_count})\\n\")\n",
    "    text.write(\"----------------------------\\n\")\n",
    "    text.write(\"Winner: Khan \\n\")\n",
    "    text.write(\"-----------------------------\\n\")\n"
   ]
  },
  {
   "cell_type": "code",
   "execution_count": null,
   "metadata": {},
   "outputs": [],
   "source": []
  }
 ],
 "metadata": {
  "kernelspec": {
   "display_name": "Python 3",
   "language": "python",
   "name": "python3"
  },
  "language_info": {
   "codemirror_mode": {
    "name": "ipython",
    "version": 3
   },
   "file_extension": ".py",
   "mimetype": "text/x-python",
   "name": "python",
   "nbconvert_exporter": "python",
   "pygments_lexer": "ipython3",
   "version": "3.7.4"
  }
 },
 "nbformat": 4,
 "nbformat_minor": 4
}
