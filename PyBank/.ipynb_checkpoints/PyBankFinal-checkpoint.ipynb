{
 "cells": [
  {
   "cell_type": "code",
   "execution_count": 73,
   "metadata": {},
   "outputs": [
    {
     "name": "stdout",
     "output_type": "stream",
     "text": [
      "Final Analysis\n",
      "-----------------------------\n",
      "\n",
      " Total Months: 86\n",
      " Total: $38382578\n",
      " Average Change: $7803.48\n",
      " Greatest Increase in Profits: Feb-2012 ($1170593)\n",
      " Greatest Decrease in Profits: Sep-2013 ($-1196225)\n"
     ]
    }
   ],
   "source": [
    "import os\n",
    "\n",
    "import csv\n",
    "\n",
    "csvpath = os.path.join(\"Resources\", \"budget_data.csv\")\n",
    "output_path = os.path.join(\"Resources\", \"Final_Analysis.txt\")\n",
    "\n",
    "total_months = 0\n",
    "net_amount = 0\n",
    "ProfitBegin = 0\n",
    "ProfitChange = 0\n",
    "\n",
    "profits_losses =[] \n",
    "dates = []\n",
    "\n",
    "\n",
    "with open(csvpath, newline='') as csvfile:\n",
    "    csvreader = csv.reader(csvfile, delimiter=',')\n",
    "    \n",
    "    csv_header = next(csvreader)\n",
    "    \n",
    "    for row in csvreader:\n",
    "        total_months = total_months +1\n",
    "        net_amount = net_amount + int(row[1])\n",
    "        ProfitEnd = int(row[1])\n",
    "        ProfitChange = ProfitChange + (ProfitEnd-ProfitBegin) \n",
    "        profits_losses.append(ProfitChange)\n",
    "        AverageChange = ProfitChange / 86 \n",
    "        ProfitBegin = ProfitEnd \n",
    "        dates.append((row[0]))\n",
    "       \n",
    "         \n",
    "greatest_increase = max(profits_losses)\n",
    "greatest_increase_date = dates[profits_losses.index(greatest_increase)]\n",
    "greatest_decrease = min(profits_losses)\n",
    "greatest_decrease_date = dates[profits_losses.index(greatest_decrease)]\n",
    "\n",
    "print(\"Final Analysis\")\n",
    "print(\"-----------------------------\\n\")\n",
    "print(f\" Total Months: {total_months}\")  \n",
    "print(f\" Total: ${net_amount}\")\n",
    "print(f\" Average Change: ${round(AverageChange,2)}\")\n",
    "print(f\" Greatest Increase in Profits: {greatest_increase_date} (${greatest_increase})\")\n",
    "print(f\" Greatest Decrease in Profits: {greatest_decrease_date} (${greatest_decrease})\")\n",
    "\n",
    "    \n",
    "\n",
    "\n",
    "with open(output_path, 'w', newline='') as text: \n",
    "    text.write(\"Final Analysis\\n\")\n",
    "    text.write(\"-----------------------------\\n\")\n",
    "    text.write(f\" Total Months: {total_months}\\n\")\n",
    "    text.write(f\" Average Change: ${round(AverageChange,2)}\\n\")\n",
    "    text.write(f\" Greatest Increase in Profits: {greatest_increase_date} (${greatest_increase})\\n\")\n",
    "    text.write(f\" Greatest Decrease in Profits: {greatest_decrease_date} (${greatest_decrease})\\n\")\n",
    "\n",
    "    "
   ]
  },
  {
   "cell_type": "code",
   "execution_count": null,
   "metadata": {},
   "outputs": [],
   "source": []
  },
  {
   "cell_type": "code",
   "execution_count": null,
   "metadata": {},
   "outputs": [],
   "source": []
  }
 ],
 "metadata": {
  "kernelspec": {
   "display_name": "Python 3",
   "language": "python",
   "name": "python3"
  },
  "language_info": {
   "codemirror_mode": {
    "name": "ipython",
    "version": 3
   },
   "file_extension": ".py",
   "mimetype": "text/x-python",
   "name": "python",
   "nbconvert_exporter": "python",
   "pygments_lexer": "ipython3",
   "version": "3.7.4"
  }
 },
 "nbformat": 4,
 "nbformat_minor": 4
}
